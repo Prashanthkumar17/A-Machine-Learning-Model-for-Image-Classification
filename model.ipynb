{
  "nbformat": 4,
  "nbformat_minor": 0,
  "metadata": {
    "colab": {
      "name": "1116540.ipynb",
      "provenance": [],
      "collapsed_sections": []
    },
    "kernelspec": {
      "name": "python3",
      "display_name": "Python 3"
    },
    "accelerator": "GPU"
  },
  "cells": [
    {
      "cell_type": "code",
      "metadata": {
        "id": "Mm8ZfRHrTym6",
        "colab_type": "code",
        "colab": {}
      },
      "source": [
        "import os\n",
        "import cv2\n",
        "import numpy as np\n",
        "import matplotlib.pyplot as plt"
      ],
      "execution_count": 124,
      "outputs": []
    },
    {
      "cell_type": "markdown",
      "metadata": {
        "id": "1kht_bCUUckh",
        "colab_type": "text"
      },
      "source": [
        "#Dataset Loading\n"
      ]
    },
    {
      "cell_type": "code",
      "metadata": {
        "id": "6_S9OfGMUQZC",
        "colab_type": "code",
        "colab": {}
      },
      "source": [
        "#Intitializing the dataset file path\n",
        "Dataset_filepath = \"./DS/\"\n",
        "dataset = []\n",
        "# Reading the each file in dataset and assigning appropriate class to it\n",
        "for file in os.listdir(Dataset_filepath):\n",
        "    if(file[0:4]== \"Abdo\"):\n",
        "        class_label = 0\n",
        "    elif(file[0:4]==\"Ches\"):\n",
        "        class_label = 1\n",
        "    elif(file[0:4]==\"Head\"):\n",
        "        class_label = 2\n",
        "  # Coverting images into grayscale using cv2        \n",
        "    gray_img = cv2.imread(Dataset_filepath+file,cv2.IMREAD_GRAYSCALE) \n",
        "  # reshaping an image from 64*64 to 32*32\n",
        "    reshaped_img = cv2.resize(gray_img,(32,32))\n",
        "    dataset.append([reshaped_img,class_label])\n"
      ],
      "execution_count": 125,
      "outputs": []
    },
    {
      "cell_type": "code",
      "metadata": {
        "id": "C-GMvJlDcN2N",
        "colab_type": "code",
        "colab": {
          "base_uri": "https://localhost:8080/",
          "height": 35
        },
        "outputId": "0fe213f9-1b3a-4ba0-c890-dc5d481fe9af"
      },
      "source": [
        "#displays total lenth of the dataset\n",
        "len(dataset)"
      ],
      "execution_count": 126,
      "outputs": [
        {
          "output_type": "execute_result",
          "data": {
            "text/plain": [
              "1500"
            ]
          },
          "metadata": {
            "tags": []
          },
          "execution_count": 126
        }
      ]
    },
    {
      "cell_type": "code",
      "metadata": {
        "id": "SZ2eaTB1hrTj",
        "colab_type": "code",
        "colab": {
          "base_uri": "https://localhost:8080/",
          "height": 139
        },
        "outputId": "3637ae34-685e-4d45-e325-b462b4223d9a"
      },
      "source": [
        "#displays first variable in dataset with appropriate label\n",
        "dataset[0]"
      ],
      "execution_count": 127,
      "outputs": [
        {
          "output_type": "execute_result",
          "data": {
            "text/plain": [
              "[array([[126, 126, 126, ..., 126, 126, 126],\n",
              "        [126, 126, 126, ..., 126, 126, 126],\n",
              "        [126, 126, 126, ..., 126, 126, 126],\n",
              "        ...,\n",
              "        [126, 126, 126, ..., 126, 126, 126],\n",
              "        [126, 126, 126, ..., 126, 126, 126],\n",
              "        [126, 126, 126, ..., 126, 126, 126]], dtype=uint8), 1]"
            ]
          },
          "metadata": {
            "tags": []
          },
          "execution_count": 127
        }
      ]
    },
    {
      "cell_type": "code",
      "metadata": {
        "id": "o7f_87l1bNk7",
        "colab_type": "code",
        "colab": {}
      },
      "source": [
        "#Data is shuffled in dataset using random function\n",
        "#import random library\n",
        "import random as rand\n",
        "rand.shuffle(dataset)\n",
        "\n"
      ],
      "execution_count": 128,
      "outputs": []
    },
    {
      "cell_type": "markdown",
      "metadata": {
        "id": "C7fHTCVSe0OO",
        "colab_type": "text"
      },
      "source": [
        "#Performing Data-Preprocessing"
      ]
    },
    {
      "cell_type": "code",
      "metadata": {
        "id": "j6plQWheezJT",
        "colab_type": "code",
        "colab": {}
      },
      "source": [
        "# Splitting the dataset into features and class-labels\n",
        "#Intitializing two empty dataset arrays, one is for storing features and other one is for storing labels\n",
        "Dataset_features = []\n",
        "Dataset_labels = []\n",
        "for i,j in dataset:\n",
        "  Dataset_features.append(i)\n",
        "  Dataset_labels.append(j)\n",
        "  \n"
      ],
      "execution_count": 129,
      "outputs": []
    },
    {
      "cell_type": "code",
      "metadata": {
        "id": "rmGyb79ejFjm",
        "colab_type": "code",
        "colab": {
          "base_uri": "https://localhost:8080/",
          "height": 52
        },
        "outputId": "d63fb4f9-12c0-4547-c504-314bfb1e9834"
      },
      "source": [
        "#Displaying length of feature dataset and labels dataset\n",
        "print(len(Dataset_features))\n",
        "print(len(Dataset_labels))\n"
      ],
      "execution_count": 130,
      "outputs": [
        {
          "output_type": "stream",
          "text": [
            "1500\n",
            "1500\n"
          ],
          "name": "stdout"
        }
      ]
    },
    {
      "cell_type": "code",
      "metadata": {
        "id": "VqoivnkMkLUW",
        "colab_type": "code",
        "colab": {}
      },
      "source": [
        "#converting features dataset to numpy array\n",
        "Dataset_features_np=np.reshape(np.array(Dataset_features),(-1,32,32,1))"
      ],
      "execution_count": 131,
      "outputs": []
    },
    {
      "cell_type": "code",
      "metadata": {
        "id": "MtFcymk7sN1-",
        "colab_type": "code",
        "colab": {}
      },
      "source": [
        "from sklearn.model_selection import train_test_split\n",
        "#Spliting data into 80% for training & 20% for testing\n",
        "X_train_CNN, X_test_CNN, y_train, y_test = train_test_split(Dataset_features_np, Dataset_labels, test_size= 0.2, random_state=32)"
      ],
      "execution_count": 132,
      "outputs": []
    },
    {
      "cell_type": "code",
      "metadata": {
        "id": "6xy93QDgsWge",
        "colab_type": "code",
        "colab": {
          "base_uri": "https://localhost:8080/",
          "height": 35
        },
        "outputId": "60b157e3-3373-4b1f-a5e0-9f2ccd3a65ce"
      },
      "source": [
        "#Display shape of data\n",
        "Dataset_features_np.shape"
      ],
      "execution_count": 133,
      "outputs": [
        {
          "output_type": "execute_result",
          "data": {
            "text/plain": [
              "(1500, 32, 32, 1)"
            ]
          },
          "metadata": {
            "tags": []
          },
          "execution_count": 133
        }
      ]
    },
    {
      "cell_type": "code",
      "metadata": {
        "id": "X3DWYiLmshfZ",
        "colab_type": "code",
        "colab": {
          "base_uri": "https://localhost:8080/",
          "height": 35
        },
        "outputId": "41db44e5-928c-4fa2-9c29-602dc380e86d"
      },
      "source": [
        "#Display shape of training and testing data\n",
        "X_train_CNN.shape, X_test_CNN.shape"
      ],
      "execution_count": 134,
      "outputs": [
        {
          "output_type": "execute_result",
          "data": {
            "text/plain": [
              "((1200, 32, 32, 1), (300, 32, 32, 1))"
            ]
          },
          "metadata": {
            "tags": []
          },
          "execution_count": 134
        }
      ]
    },
    {
      "cell_type": "markdown",
      "metadata": {
        "id": "1Lve5eIpnBAt",
        "colab_type": "text"
      },
      "source": [
        "# Applying Feature Scaling"
      ]
    },
    {
      "cell_type": "code",
      "metadata": {
        "id": "GNZHGsvjm55G",
        "colab_type": "code",
        "colab": {
          "base_uri": "https://localhost:8080/",
          "height": 35
        },
        "outputId": "921435dc-856c-47fd-8aea-cd8a6375b7ba"
      },
      "source": [
        "#It outputs maximum X value from feature Dataset\n",
        "X_valuemax = np.amax(Dataset_features_np)\n",
        "print(X_valuemax)"
      ],
      "execution_count": 135,
      "outputs": [
        {
          "output_type": "stream",
          "text": [
            "255\n"
          ],
          "name": "stdout"
        }
      ]
    },
    {
      "cell_type": "code",
      "metadata": {
        "id": "Gs05nEVioNiT",
        "colab_type": "code",
        "colab": {}
      },
      "source": [
        "# Coverting all the values in x training and testing dataset to range between 0 and 1 by dividing each \n",
        "# and every value by maximum value\n",
        "X_train_CNN = X_train_CNN.astype('float32')/X_valuemax\n",
        "X_test_CNN  = X_test_CNN.astype('float32')/X_valuemax"
      ],
      "execution_count": 136,
      "outputs": []
    },
    {
      "cell_type": "markdown",
      "metadata": {
        "id": "Kk07ZMR6trWB",
        "colab_type": "text"
      },
      "source": [
        "#Designing Convolution Neural Network (CNN) Model\n"
      ]
    },
    {
      "cell_type": "code",
      "metadata": {
        "id": "8rqYetGOtzTI",
        "colab_type": "code",
        "colab": {}
      },
      "source": [
        "import keras\n",
        "from keras.models import Sequential\n",
        "from keras.layers import Dense, Dropout, Flatten\n",
        "from keras.layers import Conv2D, MaxPooling2D\n",
        "from keras import backend as K"
      ],
      "execution_count": 137,
      "outputs": []
    },
    {
      "cell_type": "code",
      "metadata": {
        "id": "bZ2xuKTNuT_y",
        "colab_type": "code",
        "colab": {}
      },
      "source": [
        "# Create the model\n",
        "model = Sequential()\n",
        "# Add first Convolution layer\n",
        "model.add(Conv2D(32, kernel_size=(3, 3), activation='relu', input_shape=(32,32,1)))\n",
        "model.add(MaxPooling2D(pool_size=(2, 2)))\n",
        "model.add(Dropout(0.25))\n",
        "# Add second convolution layer\n",
        "model.add(Conv2D(64, kernel_size=(3, 3), activation='relu'))\n",
        "model.add(MaxPooling2D(pool_size=(2, 2)))\n",
        "model.add(Dropout(0.25))\n",
        "#Add flatten layer\n",
        "model.add(Flatten())\n",
        "#Add dense layer\n",
        "model.add(Dense(32, activation='relu'))\n",
        "model.add(Dense(3, activation='softmax'))\n"
      ],
      "execution_count": 138,
      "outputs": []
    },
    {
      "cell_type": "code",
      "metadata": {
        "id": "hE9d7gUQv0xH",
        "colab_type": "code",
        "colab": {
          "base_uri": "https://localhost:8080/",
          "height": 468
        },
        "outputId": "10a6e869-991e-4dcc-ef5a-e5fd810885e5"
      },
      "source": [
        "# Gives model summary\n",
        "model.summary()"
      ],
      "execution_count": 139,
      "outputs": [
        {
          "output_type": "stream",
          "text": [
            "Model: \"sequential_6\"\n",
            "_________________________________________________________________\n",
            "Layer (type)                 Output Shape              Param #   \n",
            "=================================================================\n",
            "conv2d_12 (Conv2D)           (None, 30, 30, 32)        320       \n",
            "_________________________________________________________________\n",
            "max_pooling2d_12 (MaxPooling (None, 15, 15, 32)        0         \n",
            "_________________________________________________________________\n",
            "dropout_12 (Dropout)         (None, 15, 15, 32)        0         \n",
            "_________________________________________________________________\n",
            "conv2d_13 (Conv2D)           (None, 13, 13, 64)        18496     \n",
            "_________________________________________________________________\n",
            "max_pooling2d_13 (MaxPooling (None, 6, 6, 64)          0         \n",
            "_________________________________________________________________\n",
            "dropout_13 (Dropout)         (None, 6, 6, 64)          0         \n",
            "_________________________________________________________________\n",
            "flatten_6 (Flatten)          (None, 2304)              0         \n",
            "_________________________________________________________________\n",
            "dense_12 (Dense)             (None, 32)                73760     \n",
            "_________________________________________________________________\n",
            "dense_13 (Dense)             (None, 3)                 99        \n",
            "=================================================================\n",
            "Total params: 92,675\n",
            "Trainable params: 92,675\n",
            "Non-trainable params: 0\n",
            "_________________________________________________________________\n"
          ],
          "name": "stdout"
        }
      ]
    },
    {
      "cell_type": "markdown",
      "metadata": {
        "id": "mQcAGL2eyBfc",
        "colab_type": "text"
      },
      "source": [
        "#Feature Extraction from Intermediate Dense Layer"
      ]
    },
    {
      "cell_type": "code",
      "metadata": {
        "id": "2hAAhxhOv9lT",
        "colab_type": "code",
        "colab": {}
      },
      "source": [
        "#The cnn model used here ectract the features from the output of the dense layer\n",
        "cnn_model = keras.Model(inputs = model.inputs,\n",
        "                outputs = [model.layers[7].output])"
      ],
      "execution_count": 140,
      "outputs": []
    },
    {
      "cell_type": "code",
      "metadata": {
        "id": "8JTaI2NOwEf1",
        "colab_type": "code",
        "colab": {}
      },
      "source": [
        "#coverting the extracted features into numpy array\n",
        "feature_ext_train = np.array(cnn_model(X_train_CNN))\n",
        "feature_ext_test = np.array(cnn_model(X_test_CNN))"
      ],
      "execution_count": 141,
      "outputs": []
    },
    {
      "cell_type": "markdown",
      "metadata": {
        "id": "xKGf8tPIyagR",
        "colab_type": "text"
      },
      "source": [
        "#Designing K-Nearest Neighbour (KNN) Model\n",
        "Applying KNN algorthim for the extracted features from CNN"
      ]
    },
    {
      "cell_type": "code",
      "metadata": {
        "id": "QjN1w2xqx7dn",
        "colab_type": "code",
        "colab": {
          "base_uri": "https://localhost:8080/",
          "height": 1000
        },
        "outputId": "d5a6b592-6454-4f7a-f8d3-1a839693adfd"
      },
      "source": [
        "from sklearn.neighbors import KNeighborsClassifier \n",
        "from sklearn import metrics\n",
        "from sklearn.metrics import classification_report,confusion_matrix,accuracy_score\n",
        "\n",
        "#Specifing the k-nearest neighbours\n",
        "near_neigh = [3,5,7,9]\n",
        "# We can create Python dictionary using [] or dict()\n",
        "scores = []\n",
        "# We use a loop through the range for every k value\n",
        "# We append the accuracy scores in the dictionary\n",
        "for k in near_neigh:\n",
        "    knn = KNeighborsClassifier(n_neighbors=k)\n",
        "    knn.fit(feature_ext_train, y_train)\n",
        "    y_prediction = knn.predict(feature_ext_test)\n",
        "    ac_s= metrics.accuracy_score(y_test, y_prediction)\n",
        "    print(\"k = \",k,\",accuracy_score =\",ac_s)\n",
        "    print(\"The k Value is:\",k)\n",
        "    print(classification_report(y_test,y_prediction))\n",
        "    print(\"The confusion matrix is : \")\n",
        "    print(confusion_matrix(y_test,y_prediction))\n",
        "    scores.append(metrics.accuracy_score(y_test, y_prediction))\n",
        "print(\"Accuracy scores of all k vales\")\n",
        "print(scores)"
      ],
      "execution_count": 142,
      "outputs": [
        {
          "output_type": "stream",
          "text": [
            "k =  3 ,accuracy_score = 1.0\n",
            "The k Value is: 3\n",
            "              precision    recall  f1-score   support\n",
            "\n",
            "           0       1.00      1.00      1.00        97\n",
            "           1       1.00      1.00      1.00       105\n",
            "           2       1.00      1.00      1.00        98\n",
            "\n",
            "    accuracy                           1.00       300\n",
            "   macro avg       1.00      1.00      1.00       300\n",
            "weighted avg       1.00      1.00      1.00       300\n",
            "\n",
            "The confusion matrix is : \n",
            "[[ 97   0   0]\n",
            " [  0 105   0]\n",
            " [  0   0  98]]\n",
            "k =  5 ,accuracy_score = 0.99\n",
            "The k Value is: 5\n",
            "              precision    recall  f1-score   support\n",
            "\n",
            "           0       0.99      0.98      0.98        97\n",
            "           1       0.98      1.00      0.99       105\n",
            "           2       1.00      0.99      0.99        98\n",
            "\n",
            "    accuracy                           0.99       300\n",
            "   macro avg       0.99      0.99      0.99       300\n",
            "weighted avg       0.99      0.99      0.99       300\n",
            "\n",
            "The confusion matrix is : \n",
            "[[ 95   2   0]\n",
            " [  0 105   0]\n",
            " [  1   0  97]]\n",
            "k =  7 ,accuracy_score = 0.9933333333333333\n",
            "The k Value is: 7\n",
            "              precision    recall  f1-score   support\n",
            "\n",
            "           0       0.99      0.99      0.99        97\n",
            "           1       0.99      1.00      1.00       105\n",
            "           2       1.00      0.99      0.99        98\n",
            "\n",
            "    accuracy                           0.99       300\n",
            "   macro avg       0.99      0.99      0.99       300\n",
            "weighted avg       0.99      0.99      0.99       300\n",
            "\n",
            "The confusion matrix is : \n",
            "[[ 96   1   0]\n",
            " [  0 105   0]\n",
            " [  1   0  97]]\n",
            "k =  9 ,accuracy_score = 0.99\n",
            "The k Value is: 9\n",
            "              precision    recall  f1-score   support\n",
            "\n",
            "           0       0.99      0.98      0.98        97\n",
            "           1       0.98      1.00      0.99       105\n",
            "           2       1.00      0.99      0.99        98\n",
            "\n",
            "    accuracy                           0.99       300\n",
            "   macro avg       0.99      0.99      0.99       300\n",
            "weighted avg       0.99      0.99      0.99       300\n",
            "\n",
            "The confusion matrix is : \n",
            "[[ 95   2   0]\n",
            " [  0 105   0]\n",
            " [  1   0  97]]\n",
            "Accuracy scores of all k vales\n",
            "[1.0, 0.99, 0.9933333333333333, 0.99]\n"
          ],
          "name": "stdout"
        }
      ]
    },
    {
      "cell_type": "code",
      "metadata": {
        "id": "nIiT9jjJ26PO",
        "colab_type": "code",
        "colab": {
          "base_uri": "https://localhost:8080/",
          "height": 297
        },
        "outputId": "037c27f7-6bdf-46c1-aee0-0125f3a8299f"
      },
      "source": [
        "# import Matplotlib (scientific plotting library)\n",
        "import matplotlib.pyplot as plt\n",
        "\n",
        "# allow plots to appear within the notebook\n",
        "%matplotlib inline\n",
        "\n",
        "# plot the relationship between K and accuracy\n",
        "# plt.plot(x_axis, y_axis)\n",
        "plt.plot(near_neigh, scores)\n",
        "plt.xlabel('Value of K for KNN')\n",
        "plt.ylabel(' Accuracy')"
      ],
      "execution_count": 143,
      "outputs": [
        {
          "output_type": "execute_result",
          "data": {
            "text/plain": [
              "Text(0, 0.5, ' Accuracy')"
            ]
          },
          "metadata": {
            "tags": []
          },
          "execution_count": 143
        },
        {
          "output_type": "display_data",
          "data": {
            "image/png": "[encoded data removed]",
            "text/plain": [
              "<Figure size 432x288 with 1 Axes>"
            ]
          },
          "metadata": {
            "tags": [],
            "needs_background": "light"
          }
        }
      ]
    },
    {
      "cell_type": "code",
      "metadata": {
        "id": "eQYvTw4Q3RbU",
        "colab_type": "code",
        "colab": {}
      },
      "source": [
        "#save the model in pickel\n",
        "#Knn model resulted best accuracy at k=3\n",
        "knn = KNeighborsClassifier(n_neighbors=3)\n",
        "knn.fit(feature_ext_train, y_train)\n",
        "y_prediction = knn.predict(feature_ext_test)\n",
        "import pickle    \n",
        "# now you can save it to a file\n",
        "with open('1116540-kNN.pkl', 'wb') as f:\n",
        "    pickle.dump(knn, f)"
      ],
      "execution_count": 144,
      "outputs": []
    },
    {
      "cell_type": "markdown",
      "metadata": {
        "id": "6346ICdw6lw2",
        "colab_type": "text"
      },
      "source": [
        "#Creating Random Forest Model\n",
        "Applying random forest model for the extacted features from CNN"
      ]
    },
    {
      "cell_type": "code",
      "metadata": {
        "id": "bjUYgL4j4KZB",
        "colab_type": "code",
        "colab": {
          "base_uri": "https://localhost:8080/",
          "height": 277
        },
        "outputId": "17b0f6f1-202e-4eec-b161-1007f236df31"
      },
      "source": [
        "from sklearn.ensemble import RandomForestClassifier\n",
        "from sklearn.metrics import classification_report,confusion_matrix,accuracy_score\n",
        "\n",
        "# Creating a base model\n",
        "ran_forc = RandomForestClassifier(n_estimators = 100,min_samples_split=2,max_depth = 2,random_state=0)\n",
        "ran_forc.fit(feature_ext_train, y_train)\n",
        "prediction_y = ran_forc.predict(feature_ext_test)\n",
        "\n",
        "# Accuracy and confusion matrix for the base model\n",
        "print(\"The Confusion-matrix is : \" )\n",
        "print(confusion_matrix(y_test,prediction_y))\n",
        "print(classification_report(y_test,prediction_y))\n",
        "acc = accuracy_score(y_test,prediction_y)\n",
        "print(\"The Accuracy Score is: \",acc )"
      ],
      "execution_count": 145,
      "outputs": [
        {
          "output_type": "stream",
          "text": [
            "The Confusion-matrix is : \n",
            "[[90  5  2]\n",
            " [ 6 99  0]\n",
            " [ 3  0 95]]\n",
            "              precision    recall  f1-score   support\n",
            "\n",
            "           0       0.91      0.93      0.92        97\n",
            "           1       0.95      0.94      0.95       105\n",
            "           2       0.98      0.97      0.97        98\n",
            "\n",
            "    accuracy                           0.95       300\n",
            "   macro avg       0.95      0.95      0.95       300\n",
            "weighted avg       0.95      0.95      0.95       300\n",
            "\n",
            "The Accuracy Score is:  0.9466666666666667\n"
          ],
          "name": "stdout"
        }
      ]
    },
    {
      "cell_type": "markdown",
      "metadata": {
        "id": "K2dkiVsG8v0s",
        "colab_type": "text"
      },
      "source": [
        "#Tuning hyperparameters using randomized search"
      ]
    },
    {
      "cell_type": "code",
      "metadata": {
        "id": "qQOkmP5G8iu6",
        "colab_type": "code",
        "colab": {
          "base_uri": "https://localhost:8080/",
          "height": 69
        },
        "outputId": "8ee54cbe-cb1e-43c8-8fa7-6a795da20e1b"
      },
      "source": [
        "from sklearn.model_selection import RandomizedSearchCV\n",
        "from pprint import pprint\n",
        "# Number of trees in random forest\n",
        "n_estimators = [10,20,30,40,50]\n",
        "# Minimum number of samples required to split a node\n",
        "min_samples_split = [2, 5, 7,9, 10]\n",
        "# Maximum depth\n",
        "max_depth = [2,4,6,8,10]\n",
        "# Create the random grid\n",
        "random_grid = {'n_estimators': n_estimators,\n",
        "               'min_samples_split': min_samples_split,\n",
        "               'max_depth': max_depth}\n",
        "pprint(random_grid)"
      ],
      "execution_count": 147,
      "outputs": [
        {
          "output_type": "stream",
          "text": [
            "{'max_depth': [2, 4, 6, 8, 10],\n",
            " 'min_samples_split': [2, 5, 7, 9, 10],\n",
            " 'n_estimators': [10, 20, 30, 40, 50]}\n"
          ],
          "name": "stdout"
        }
      ]
    },
    {
      "cell_type": "code",
      "metadata": {
        "id": "Qb6xKYHk9aZq",
        "colab_type": "code",
        "colab": {
          "base_uri": "https://localhost:8080/",
          "height": 451
        },
        "outputId": "a589ec45-1d77-4601-fa5a-91fa63ea5a87"
      },
      "source": [
        "from sklearn.ensemble import RandomForestRegressor\n",
        "# Use the random grid to search for best hyperparameters\n",
        "# First create the base model to tune\n",
        "rf = RandomForestRegressor()\n",
        "# Random search of parameters using randomized search \n",
        "rf_random = RandomizedSearchCV(estimator = ran_forc, param_distributions = random_grid, n_iter = 10,random_state=42)\n",
        "# Fit the random search model\n",
        "rf_random.fit(feature_ext_train, y_train)"
      ],
      "execution_count": 155,
      "outputs": [
        {
          "output_type": "execute_result",
          "data": {
            "text/plain": [
              "RandomizedSearchCV(cv=None, error_score=nan,\n",
              "                   estimator=RandomForestClassifier(bootstrap=True,\n",
              "                                                    ccp_alpha=0.0,\n",
              "                                                    class_weight=None,\n",
              "                                                    criterion='gini',\n",
              "                                                    max_depth=8,\n",
              "                                                    max_features='auto',\n",
              "                                                    max_leaf_nodes=None,\n",
              "                                                    max_samples=None,\n",
              "                                                    min_impurity_decrease=0.0,\n",
              "                                                    min_impurity_split=None,\n",
              "                                                    min_samples_leaf=1,\n",
              "                                                    min_samples_split=9,\n",
              "                                                    min_weight_fraction_leaf=0.0,\n",
              "                                                    n_estimators=20,\n",
              "                                                    n_jobs=None,\n",
              "                                                    oob_score=False,\n",
              "                                                    random_state=0, verbose=0,\n",
              "                                                    warm_start=False),\n",
              "                   iid='deprecated', n_iter=10, n_jobs=None,\n",
              "                   param_distributions={'max_depth': [2, 4, 6, 8, 10],\n",
              "                                        'min_samples_split': [2, 5, 7, 9, 10],\n",
              "                                        'n_estimators': [10, 20, 30, 40, 50]},\n",
              "                   pre_dispatch='2*n_jobs', random_state=42, refit=True,\n",
              "                   return_train_score=False, scoring=None, verbose=0)"
            ]
          },
          "metadata": {
            "tags": []
          },
          "execution_count": 155
        }
      ]
    },
    {
      "cell_type": "code",
      "metadata": {
        "id": "OBB-xKcB-fFi",
        "colab_type": "code",
        "colab": {
          "base_uri": "https://localhost:8080/",
          "height": 35
        },
        "outputId": "57735ab8-4237-4c3a-daef-4db652026f6e"
      },
      "source": [
        "#it displays best parameters\n",
        "rf_random.best_params_"
      ],
      "execution_count": 149,
      "outputs": [
        {
          "output_type": "execute_result",
          "data": {
            "text/plain": [
              "{'max_depth': 8, 'min_samples_split': 9, 'n_estimators': 20}"
            ]
          },
          "metadata": {
            "tags": []
          },
          "execution_count": 149
        }
      ]
    },
    {
      "cell_type": "code",
      "metadata": {
        "id": "hWUJSufw_B0a",
        "colab_type": "code",
        "colab": {
          "base_uri": "https://localhost:8080/",
          "height": 277
        },
        "outputId": "849770f3-77e2-49c9-f06f-93f821d9174d"
      },
      "source": [
        "#substituting the best parameters into base modle and calculting performance metrics\n",
        "ran_forc = RandomForestClassifier(n_estimators = 20,max_depth=8, min_samples_split=9,random_state=0)\n",
        "ran_forc.fit(feature_ext_train, y_train)\n",
        "prediction_y = ran_forc.predict(feature_ext_test)\n",
        "\n",
        "# Accuracy and confusion matrix for the base model\n",
        "print(\"The Confusion-matrix is : \" )\n",
        "print(confusion_matrix(y_test,prediction_y))\n",
        "print(classification_report(y_test,prediction_y))\n",
        "acc = accuracy_score(y_test,prediction_y)\n",
        "print(\"The Accuracy Score is: \",acc )"
      ],
      "execution_count": 151,
      "outputs": [
        {
          "output_type": "stream",
          "text": [
            "The Confusion-matrix is : \n",
            "[[ 96   1   0]\n",
            " [  2 103   0]\n",
            " [  0   0  98]]\n",
            "              precision    recall  f1-score   support\n",
            "\n",
            "           0       0.98      0.99      0.98        97\n",
            "           1       0.99      0.98      0.99       105\n",
            "           2       1.00      1.00      1.00        98\n",
            "\n",
            "    accuracy                           0.99       300\n",
            "   macro avg       0.99      0.99      0.99       300\n",
            "weighted avg       0.99      0.99      0.99       300\n",
            "\n",
            "The Accuracy Score is:  0.99\n"
          ],
          "name": "stdout"
        }
      ]
    },
    {
      "cell_type": "code",
      "metadata": {
        "id": "AQygozDD_8i3",
        "colab_type": "code",
        "colab": {}
      },
      "source": [
        "import pickle    \n",
        "# now you can save it to a file\n",
        "with open('1116540-RF.pkl', 'wb') as f:\n",
        "    pickle.dump(ran_forc, f)"
      ],
      "execution_count": 152,
      "outputs": []
    },
    {
      "cell_type": "code",
      "metadata": {
        "id": "e76zUEeaC5ME",
        "colab_type": "code",
        "colab": {}
      },
      "source": [
        ""
      ],
      "execution_count": null,
      "outputs": []
    }
  ]
}